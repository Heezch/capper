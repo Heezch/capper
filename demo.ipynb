{
 "cells": [
  {
   "cell_type": "code",
   "execution_count": 1,
   "metadata": {},
   "outputs": [
    {
     "data": {
      "application/vnd.jupyter.widget-view+json": {
       "model_id": "ff2027a5a6c147978fb957d3a7d27682",
       "version_major": 2,
       "version_minor": 0
      },
      "text/plain": []
     },
     "metadata": {},
     "output_type": "display_data"
    },
    {
     "name": "stdout",
     "output_type": "stream",
     "text": [
      "First and last residue of leading chain:  ALA91 GLU139\n",
      "RMS of fit ACE: 0.004465204840247209\n",
      "<mdtraj.Topology with 4 chains, 113 residues, 1583 atoms, 1486 bonds>\n",
      "[DG1, DC2, DG3, DG4, DC5, DG6, DT7, DA8, DT9, DT10, DG11, DC12]\n",
      "[DG1, DC2, DA3, DA4, DT5, DA6, DC7, DG8, DC9, DC10, DG11, DC12]\n",
      "[ACE90, ALA91, ALA92, ARG93, PRO94, ALA95, LYS96, TYR97, SER98, TYR99, VAL100, ASP101, GLU102, ASN103, GLY104, GLU105, THR106, LYS107, THR108, TRP109, THR110, GLY111, GLN112, GLY113, ARG114, THR115, PRO116, ALA117, VAL118, ILE119, LYS120, LYS121, ALA122, MET123, GLU124, GLU125, GLN126, GLY127, LYS128, GLN129, LEU130, GLU131, ASP132, PHE133, LEU134, ILE135, LYS136, GLU137, LEU138, GLU139]\n",
      "[NA8548, NA8549, NA8550, NA8551, NA8552, NA8553, NA8554, NA8555, NA8556, NA8557, NA8558, NA8559, NA8560, NA8561, NA8562, NA8563, NA8564, NA8565, NA8566, NA8567, NA8568, NA8569, NA8570, NA8571, NA8572, NA8573, NA8574, NA8575, NA8576, NA8577, NA8578, CL8579, CL8580, CL8581, CL8582, CL8583, CL8584, CL8585, CL8586]\n"
     ]
    }
   ],
   "source": [
    "from Capper import *\n",
    "import copy \n",
    "import mdtraj as md \n",
    "\n",
    "\n",
    "# To cap the N-terminus of the protein you have to specific the chain id of the protein\n",
    "# Here mdtraj is used so the chain ids are numerical (instead of alphabetical as in pdb files)\n",
    "# In this example the protein chain id is 2 and the 0, 1 chains are DNA strands\n",
    "\n",
    "\n",
    "traj = md.load('./pdbs/uncapped_protein.pdb')\n",
    "capper = Capper(copy.deepcopy(traj),leading_chainid=2,N_term=True,C_term=False)\n",
    "print(capper.capped_traj.top)\n",
    "for c in capper.capped_traj.top.chains:\n",
    "    print([res for res in c.residues])  "
   ]
  },
  {
   "cell_type": "code",
   "execution_count": null,
   "metadata": {},
   "outputs": [],
   "source": []
  }
 ],
 "metadata": {
  "kernelspec": {
   "display_name": "prodna",
   "language": "python",
   "name": "python3"
  },
  "language_info": {
   "codemirror_mode": {
    "name": "ipython",
    "version": 3
   },
   "file_extension": ".py",
   "mimetype": "text/x-python",
   "name": "python",
   "nbconvert_exporter": "python",
   "pygments_lexer": "ipython3",
   "version": "3.11.3"
  }
 },
 "nbformat": 4,
 "nbformat_minor": 2
}
